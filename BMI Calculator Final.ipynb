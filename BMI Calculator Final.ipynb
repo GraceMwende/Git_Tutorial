{
 "cells": [
  {
   "cell_type": "code",
   "execution_count": 3,
   "id": "e1396509-af0b-4d2a-8ab5-3c32d5dda7fa",
   "metadata": {},
   "outputs": [
    {
     "name": "stdin",
     "output_type": "stream",
     "text": [
      "Enter your name alez\n",
      "Enter your weight in Kg 85\n",
      "Enter your height in cm 175\n"
     ]
    },
    {
     "name": "stdout",
     "output_type": "stream",
     "text": [
      "Your Bmi is 27.755102040816325\n",
      "alez you are overweight\n"
     ]
    }
   ],
   "source": [
    "#bmi=weight(kg)/(height(m))^2\n",
    "name=input(\"Enter your name\")\n",
    "weight=int(input('Enter your weight in Kg'))\n",
    "height=int(input('Enter your height in cm'))\n",
    "bmi= weight/((height/100) **2)\n",
    "print(\"Your Bmi is \" + str(bmi))\n",
    "if bmi>0:\n",
    "    \n",
    "    if bmi<18.5:\n",
    "        print(name + ' You are underweight')\n",
    "    elif bmi<24.9:\n",
    "        print(name + ' You are Normal weight')\n",
    "    elif bmi<29.9:\n",
    "        print(name + ' you are overweight')\n",
    "    elif bmi<34.9:\n",
    "        print(name + ' you are obese')\n",
    "    elif bmi<39.9:\n",
    "        print(name + ' You are Severely obese')\n",
    "    else:\n",
    "        print(name + ' You are Morbidily Obese')\n",
    "else:\n",
    "    print('please enter valid input')"
   ]
  },
  {
   "cell_type": "code",
   "execution_count": null,
   "id": "dea9100d-2162-4f3a-b45d-9adc23003e1d",
   "metadata": {},
   "outputs": [],
   "source": []
  }
 ],
 "metadata": {
  "kernelspec": {
   "display_name": "Python 3 (ipykernel)",
   "language": "python",
   "name": "python3"
  },
  "language_info": {
   "codemirror_mode": {
    "name": "ipython",
    "version": 3
   },
   "file_extension": ".py",
   "mimetype": "text/x-python",
   "name": "python",
   "nbconvert_exporter": "python",
   "pygments_lexer": "ipython3",
   "version": "3.11.7"
  }
 },
 "nbformat": 4,
 "nbformat_minor": 5
}
