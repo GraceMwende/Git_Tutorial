{
 "cells": [
  {
   "cell_type": "code",
   "execution_count": 6,
   "id": "e1396509-af0b-4d2a-8ab5-3c32d5dda7fa",
   "metadata": {},
   "outputs": [
    {
     "name": "stdout",
     "output_type": "stream",
     "text": [
      "Hello Grace.Welcome to our BMI calculation system\n",
      "Provide us with the information below:\n",
      "\n",
      "========BMI Results========\n",
      "Your Bmi is 24.19\n",
      "Grace You are Normal weight\n"
     ]
    }
   ],
   "source": [
    "'''\n",
    "BMI\tWeight Status\n",
    "Below 18.5\tUnderweight\n",
    "18.5—24.9\tHealthy Weight\n",
    "25.0—29.9\tOverweight\n",
    "30.0-34.9   obese\n",
    "35.0-39.9    Severely obese\n",
    "above 39.9          Morbidily Obese       \n",
    "'''\n",
    "#bmi=weight(kg)/(height(m))^2\n",
    "name=input(\"Enter your name\")\n",
    "print(f'Hello {name}.Welcome to our BMI calculation system')\n",
    "print('Provide us with the information below:')\n",
    "print()\n",
    "weight=float(input('Enter your weight in Kgs'))\n",
    "height=float(input('Enter your height in cm'))\n",
    "bmi= round(weight/((height/100) **2),2)\n",
    "print('========BMI Results========')\n",
    "print(\"Your Bmi is \" + str(bmi))\n",
    "if bmi>0:\n",
    "    \n",
    "    if bmi<18.5:\n",
    "        print(name + ' You are underweight')\n",
    "    elif bmi<24.9:\n",
    "        print(name + ' You are Normal weight')\n",
    "    elif bmi<29.9:\n",
    "        print(name + ' you are overweight')\n",
    "    elif bmi<34.9:\n",
    "        print(name + ' you are obese')\n",
    "    elif bmi<39.9:\n",
    "        print(name + ' You are Severely obese')\n",
    "    else:\n",
    "        print(name + ' You are Morbidily Obese')\n",
    "else:\n",
    "    print('please enter valid input')"
   ]
  },
  {
   "cell_type": "code",
   "execution_count": null,
   "id": "dea9100d-2162-4f3a-b45d-9adc23003e1d",
   "metadata": {},
   "outputs": [],
   "source": []
  }
 ],
 "metadata": {
  "kernelspec": {
   "display_name": "Python (learn-env)",
   "language": "python",
   "name": "learn-env"
  },
  "language_info": {
   "codemirror_mode": {
    "name": "ipython",
    "version": 3
   },
   "file_extension": ".py",
   "mimetype": "text/x-python",
   "name": "python",
   "nbconvert_exporter": "python",
   "pygments_lexer": "ipython3",
   "version": "3.8.5"
  }
 },
 "nbformat": 4,
 "nbformat_minor": 5
}
